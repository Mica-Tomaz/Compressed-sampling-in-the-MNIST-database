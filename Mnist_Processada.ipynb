{
  "cells": [
    {
      "cell_type": "code",
      "execution_count": 1,
      "metadata": {
        "id": "ZEyPRTayyeia"
      },
      "outputs": [],
      "source": [
        "# Bibliotecas\n",
        "import numpy as np\n",
        "import pandas as pd\n",
        "import matplotlib.pyplot as plt\n",
        "import seaborn as sns\n",
        "import tensorflow as tf\n",
        "from tensorflow.keras.datasets import mnist\n",
        "\n",
        "# Metricas e ferramentas de processamento do SKLEARN\n",
        "\n",
        "from sklearn import metrics  # Métricas adicionais para avaliação de modelos\n",
        "from sklearn.model_selection import train_test_split, KFold  # Funções para dividir dados em conjuntos de treino e teste, e para validação cruzada\n",
        "from sklearn.metrics import accuracy_score, confusion_matrix, classification_report  # Métricas de avaliação de modelos de classificação\n",
        "from sklearn.preprocessing import StandardScaler  # Ferramenta para pré-processamento de dados (escalonamento)\n",
        "from sklearn.model_selection import cross_val_score\n",
        "from sklearn.metrics import recall_score, precision_score, f1_score  # Métricas de avaliação de modelos de classificação\n",
        "\n",
        "# Bivlioteca TensorFlow\n",
        "\n",
        "from tensorflow.keras.models import Sequential  # Modelo de rede neural sequencial do Keras\n",
        "from tensorflow.keras.layers import *  # Camadas de uma rede neural no Keras\n",
        "from tensorflow.keras.callbacks import ModelCheckpoint  # Callback para salvar o modelo durante o treinamento\n",
        "from tensorflow.keras.losses import MeanSquaredError  # Função de perda para regressão no Keras\n",
        "from tensorflow.keras.metrics import RootMeanSquaredError  # Métrica adicional para avaliação de modelos de regressão\n",
        "from tensorflow.keras.optimizers import Adam  # Otimizador Adam para treinamento de redes neurais no Keras"
      ]
    },
    {
      "cell_type": "code",
      "execution_count": 2,
      "metadata": {
        "colab": {
          "base_uri": "https://localhost:8080/",
          "height": 36
        },
        "id": "k-BnnDtHM7dU",
        "outputId": "264d6501-4f5a-43e7-e0a6-4adca8ff48f3"
      },
      "outputs": [
        {
          "data": {
            "text/plain": [
              "'2.17.0'"
            ]
          },
          "execution_count": 2,
          "metadata": {},
          "output_type": "execute_result"
        }
      ],
      "source": [
        "# Versão do TensorFlow utilizada.\n",
        "tf.__version__"
      ]
    },
    {
      "cell_type": "code",
      "execution_count": 3,
      "metadata": {
        "id": "RRGlVjfqM802"
      },
      "outputs": [],
      "source": [
        "# Importando a biblioteca MNIST.\n",
        "(X_train, y_train), (X_test, y_test) = mnist.load_data()"
      ]
    },
    {
      "cell_type": "code",
      "execution_count": 4,
      "metadata": {},
      "outputs": [],
      "source": [
        "# Importando a matriz de amostragem (arquivo CSV).\n",
        "amostragem  = pd.read_csv(\"C:/Users/Micael/Desktop/VS code/amostragem_compressiva.csv\",header = None )"
      ]
    },
    {
      "cell_type": "code",
      "execution_count": 5,
      "metadata": {},
      "outputs": [],
      "source": [
        "# Transformando o arquivo csv em uma matriz numpy.\n",
        "amostragem = amostragem.to_numpy()"
      ]
    },
    {
      "cell_type": "code",
      "execution_count": 6,
      "metadata": {},
      "outputs": [
        {
          "data": {
            "text/plain": [
              "(784, 100)"
            ]
          },
          "execution_count": 6,
          "metadata": {},
          "output_type": "execute_result"
        }
      ],
      "source": [
        "# Shape da matriz de amostragem Vetor original x tamanho a qual vai ser reduzido.\n",
        "amostragem.shape"
      ]
    },
    {
      "cell_type": "code",
      "execution_count": 7,
      "metadata": {},
      "outputs": [
        {
          "data": {
            "text/plain": [
              "<matplotlib.image.AxesImage at 0x245fe847a10>"
            ]
          },
          "execution_count": 7,
          "metadata": {},
          "output_type": "execute_result"
        },
        {
          "data": {
            "image/png": "[encoded data removed]",
            "text/plain": [
              "<Figure size 640x480 with 1 Axes>"
            ]
          },
          "metadata": {},
          "output_type": "display_data"
        }
      ],
      "source": [
        "# Exemplo de uma imagem do Banco de dados MNIST, disposta em uma matriz 28x28.\n",
        "plt.imshow(X_train[5],cmap='gray')"
      ]
    },
    {
      "cell_type": "code",
      "execution_count": 8,
      "metadata": {},
      "outputs": [
        {
          "data": {
            "text/plain": [
              "(784,)"
            ]
          },
          "execution_count": 8,
          "metadata": {},
          "output_type": "execute_result"
        }
      ],
      "source": [
        "# Transformando a matriz 28x28 em um vetor coluna de 784x1.\n",
        "X_train = X_train.reshape(-1, 28*28)\n",
        "X_test = X_test.reshape(-1, 28*28)\n",
        "X_train[1].shape"
      ]
    },
    {
      "cell_type": "code",
      "execution_count": 9,
      "metadata": {
        "id": "0Wjb5RbGNMLZ"
      },
      "outputs": [],
      "source": [
        "# Normalizando o banco de dados por escalonamento por valor máximo.\n",
        "X_train = X_train / 255.0\n",
        "X_test = X_test / 255.0"
      ]
    },
    {
      "cell_type": "code",
      "execution_count": 10,
      "metadata": {},
      "outputs": [],
      "source": [
        "# Reduzindo os dados por multiplicação matricial.\n",
        "mod_X_train = X_train.dot(amostragem)\n",
        "mod_X_test = X_test.dot(amostragem)"
      ]
    },
    {
      "cell_type": "code",
      "execution_count": 11,
      "metadata": {},
      "outputs": [
        {
          "data": {
            "text/plain": [
              "(60000, 100)"
            ]
          },
          "execution_count": 11,
          "metadata": {},
          "output_type": "execute_result"
        }
      ],
      "source": [
        "mod_X_train.shape"
      ]
    },
    {
      "cell_type": "code",
      "execution_count": 12,
      "metadata": {
        "colab": {
          "base_uri": "https://localhost:8080/"
        },
        "id": "tNoUZblCwlY5",
        "outputId": "ca1c8b5a-1898-431c-eaff-e9f5c8574e03"
      },
      "outputs": [
        {
          "name": "stderr",
          "output_type": "stream",
          "text": [
            "c:\\Users\\Micael\\AppData\\Local\\Programs\\Python\\Python312\\Lib\\site-packages\\keras\\src\\layers\\core\\dense.py:87: UserWarning: Do not pass an `input_shape`/`input_dim` argument to a layer. When using Sequential models, prefer using an `Input(shape)` object as the first layer in the model instead.\n",
            "  super().__init__(activity_regularizer=activity_regularizer, **kwargs)\n"
          ]
        }
      ],
      "source": [
        "# Criando um modelo sequencial\n",
        "model = tf.keras.models.Sequential()\n",
        "\n",
        "# Criando a camada de entrada de 784 neurônios e a 1º camada oculta com 128 neurônios (Função de ativação Relu).\n",
        "model.add(tf.keras.layers.Dense(units=128, activation='relu', input_shape=(100, )))\n",
        "\n",
        "#Função Dropout\n",
        "model.add(tf.keras.layers.Dropout(0.2))\n",
        "\n",
        "# 2º camada oculta com 100 neurônios\n",
        "model.add(tf.keras.layers.Dense(units=100, activation='relu'))\n",
        "\n",
        "# Função Dropout\n",
        "model.add(tf.keras.layers.Dropout(0.2))\n",
        "\n",
        "# 3º camada oculta com 64 neurônios\n",
        "model.add(tf.keras.layers.Dense(units=64, activation='relu'))\n",
        "\n",
        "# Função Dropout\n",
        "model.add(tf.keras.layers.Dropout(0.2))\n",
        "\n",
        "# Criando a camada de saída com 10 neurônios e função de ativação softmax\n",
        "model.add(tf.keras.layers.Dense(units=10, activation='softmax'))"
      ]
    },
    {
      "cell_type": "code",
      "execution_count": 13,
      "metadata": {
        "id": "8GxelryFyKwZ"
      },
      "outputs": [],
      "source": [
        "# Compilando o modelo\n",
        "cp1 = ModelCheckpoint('model/melhor_modelo.keras', save_best_only=True)\n",
        "model.compile(loss = 'sparse_categorical_crossentropy' , optimizer = Adam(learning_rate=0.001), metrics = ['sparse_categorical_accuracy'])"
      ]
    },
    {
      "cell_type": "code",
      "execution_count": 14,
      "metadata": {
        "colab": {
          "base_uri": "https://localhost:8080/",
          "height": 374
        },
        "id": "FNPtgB_uNn2e",
        "outputId": "c91c787c-4d23-43e9-9b7b-d1ec894600ac"
      },
      "outputs": [
        {
          "data": {
            "text/html": [
              "<pre style=\"white-space:pre;overflow-x:auto;line-height:normal;font-family:Menlo,'DejaVu Sans Mono',consolas,'Courier New',monospace\"><span style=\"font-weight: bold\">Model: \"sequential\"</span>\n",
              "</pre>\n"
            ],
            "text/plain": [
              "\u001b[1mModel: \"sequential\"\u001b[0m\n"
            ]
          },
          "metadata": {},
          "output_type": "display_data"
        },
        {
          "data": {
            "text/html": [
              "<pre style=\"white-space:pre;overflow-x:auto;line-height:normal;font-family:Menlo,'DejaVu Sans Mono',consolas,'Courier New',monospace\">┏━━━━━━━━━━━━━━━━━━━━━━━━━━━━━━━━━┳━━━━━━━━━━━━━━━━━━━━━━━━┳━━━━━━━━━━━━━━━┓\n",
              "┃<span style=\"font-weight: bold\"> Layer (type)                    </span>┃<span style=\"font-weight: bold\"> Output Shape           </span>┃<span style=\"font-weight: bold\">       Param # </span>┃\n",
              "┡━━━━━━━━━━━━━━━━━━━━━━━━━━━━━━━━━╇━━━━━━━━━━━━━━━━━━━━━━━━╇━━━━━━━━━━━━━━━┩\n",
              "│ dense (<span style=\"color: #0087ff; text-decoration-color: #0087ff\">Dense</span>)                   │ (<span style=\"color: #00d7ff; text-decoration-color: #00d7ff\">None</span>, <span style=\"color: #00af00; text-decoration-color: #00af00\">128</span>)            │        <span style=\"color: #00af00; text-decoration-color: #00af00\">12,928</span> │\n",
              "├─────────────────────────────────┼────────────────────────┼───────────────┤\n",
              "│ dropout (<span style=\"color: #0087ff; text-decoration-color: #0087ff\">Dropout</span>)               │ (<span style=\"color: #00d7ff; text-decoration-color: #00d7ff\">None</span>, <span style=\"color: #00af00; text-decoration-color: #00af00\">128</span>)            │             <span style=\"color: #00af00; text-decoration-color: #00af00\">0</span> │\n",
              "├─────────────────────────────────┼────────────────────────┼───────────────┤\n",
              "│ dense_1 (<span style=\"color: #0087ff; text-decoration-color: #0087ff\">Dense</span>)                 │ (<span style=\"color: #00d7ff; text-decoration-color: #00d7ff\">None</span>, <span style=\"color: #00af00; text-decoration-color: #00af00\">100</span>)            │        <span style=\"color: #00af00; text-decoration-color: #00af00\">12,900</span> │\n",
              "├─────────────────────────────────┼────────────────────────┼───────────────┤\n",
              "│ dropout_1 (<span style=\"color: #0087ff; text-decoration-color: #0087ff\">Dropout</span>)             │ (<span style=\"color: #00d7ff; text-decoration-color: #00d7ff\">None</span>, <span style=\"color: #00af00; text-decoration-color: #00af00\">100</span>)            │             <span style=\"color: #00af00; text-decoration-color: #00af00\">0</span> │\n",
              "├─────────────────────────────────┼────────────────────────┼───────────────┤\n",
              "│ dense_2 (<span style=\"color: #0087ff; text-decoration-color: #0087ff\">Dense</span>)                 │ (<span style=\"color: #00d7ff; text-decoration-color: #00d7ff\">None</span>, <span style=\"color: #00af00; text-decoration-color: #00af00\">64</span>)             │         <span style=\"color: #00af00; text-decoration-color: #00af00\">6,464</span> │\n",
              "├─────────────────────────────────┼────────────────────────┼───────────────┤\n",
              "│ dropout_2 (<span style=\"color: #0087ff; text-decoration-color: #0087ff\">Dropout</span>)             │ (<span style=\"color: #00d7ff; text-decoration-color: #00d7ff\">None</span>, <span style=\"color: #00af00; text-decoration-color: #00af00\">64</span>)             │             <span style=\"color: #00af00; text-decoration-color: #00af00\">0</span> │\n",
              "├─────────────────────────────────┼────────────────────────┼───────────────┤\n",
              "│ dense_3 (<span style=\"color: #0087ff; text-decoration-color: #0087ff\">Dense</span>)                 │ (<span style=\"color: #00d7ff; text-decoration-color: #00d7ff\">None</span>, <span style=\"color: #00af00; text-decoration-color: #00af00\">10</span>)             │           <span style=\"color: #00af00; text-decoration-color: #00af00\">650</span> │\n",
              "└─────────────────────────────────┴────────────────────────┴───────────────┘\n",
              "</pre>\n"
            ],
            "text/plain": [
              "┏━━━━━━━━━━━━━━━━━━━━━━━━━━━━━━━━━┳━━━━━━━━━━━━━━━━━━━━━━━━┳━━━━━━━━━━━━━━━┓\n",
              "┃\u001b[1m \u001b[0m\u001b[1mLayer (type)                   \u001b[0m\u001b[1m \u001b[0m┃\u001b[1m \u001b[0m\u001b[1mOutput Shape          \u001b[0m\u001b[1m \u001b[0m┃\u001b[1m \u001b[0m\u001b[1m      Param #\u001b[0m\u001b[1m \u001b[0m┃\n",
              "┡━━━━━━━━━━━━━━━━━━━━━━━━━━━━━━━━━╇━━━━━━━━━━━━━━━━━━━━━━━━╇━━━━━━━━━━━━━━━┩\n",
              "│ dense (\u001b[38;5;33mDense\u001b[0m)                   │ (\u001b[38;5;45mNone\u001b[0m, \u001b[38;5;34m128\u001b[0m)            │        \u001b[38;5;34m12,928\u001b[0m │\n",
              "├─────────────────────────────────┼────────────────────────┼───────────────┤\n",
              "│ dropout (\u001b[38;5;33mDropout\u001b[0m)               │ (\u001b[38;5;45mNone\u001b[0m, \u001b[38;5;34m128\u001b[0m)            │             \u001b[38;5;34m0\u001b[0m │\n",
              "├─────────────────────────────────┼────────────────────────┼───────────────┤\n",
              "│ dense_1 (\u001b[38;5;33mDense\u001b[0m)                 │ (\u001b[38;5;45mNone\u001b[0m, \u001b[38;5;34m100\u001b[0m)            │        \u001b[38;5;34m12,900\u001b[0m │\n",
              "├─────────────────────────────────┼────────────────────────┼───────────────┤\n",
              "│ dropout_1 (\u001b[38;5;33mDropout\u001b[0m)             │ (\u001b[38;5;45mNone\u001b[0m, \u001b[38;5;34m100\u001b[0m)            │             \u001b[38;5;34m0\u001b[0m │\n",
              "├─────────────────────────────────┼────────────────────────┼───────────────┤\n",
              "│ dense_2 (\u001b[38;5;33mDense\u001b[0m)                 │ (\u001b[38;5;45mNone\u001b[0m, \u001b[38;5;34m64\u001b[0m)             │         \u001b[38;5;34m6,464\u001b[0m │\n",
              "├─────────────────────────────────┼────────────────────────┼───────────────┤\n",
              "│ dropout_2 (\u001b[38;5;33mDropout\u001b[0m)             │ (\u001b[38;5;45mNone\u001b[0m, \u001b[38;5;34m64\u001b[0m)             │             \u001b[38;5;34m0\u001b[0m │\n",
              "├─────────────────────────────────┼────────────────────────┼───────────────┤\n",
              "│ dense_3 (\u001b[38;5;33mDense\u001b[0m)                 │ (\u001b[38;5;45mNone\u001b[0m, \u001b[38;5;34m10\u001b[0m)             │           \u001b[38;5;34m650\u001b[0m │\n",
              "└─────────────────────────────────┴────────────────────────┴───────────────┘\n"
            ]
          },
          "metadata": {},
          "output_type": "display_data"
        },
        {
          "data": {
            "text/html": [
              "<pre style=\"white-space:pre;overflow-x:auto;line-height:normal;font-family:Menlo,'DejaVu Sans Mono',consolas,'Courier New',monospace\"><span style=\"font-weight: bold\"> Total params: </span><span style=\"color: #00af00; text-decoration-color: #00af00\">32,942</span> (128.68 KB)\n",
              "</pre>\n"
            ],
            "text/plain": [
              "\u001b[1m Total params: \u001b[0m\u001b[38;5;34m32,942\u001b[0m (128.68 KB)\n"
            ]
          },
          "metadata": {},
          "output_type": "display_data"
        },
        {
          "data": {
            "text/html": [
              "<pre style=\"white-space:pre;overflow-x:auto;line-height:normal;font-family:Menlo,'DejaVu Sans Mono',consolas,'Courier New',monospace\"><span style=\"font-weight: bold\"> Trainable params: </span><span style=\"color: #00af00; text-decoration-color: #00af00\">32,942</span> (128.68 KB)\n",
              "</pre>\n"
            ],
            "text/plain": [
              "\u001b[1m Trainable params: \u001b[0m\u001b[38;5;34m32,942\u001b[0m (128.68 KB)\n"
            ]
          },
          "metadata": {},
          "output_type": "display_data"
        },
        {
          "data": {
            "text/html": [
              "<pre style=\"white-space:pre;overflow-x:auto;line-height:normal;font-family:Menlo,'DejaVu Sans Mono',consolas,'Courier New',monospace\"><span style=\"font-weight: bold\"> Non-trainable params: </span><span style=\"color: #00af00; text-decoration-color: #00af00\">0</span> (0.00 B)\n",
              "</pre>\n"
            ],
            "text/plain": [
              "\u001b[1m Non-trainable params: \u001b[0m\u001b[38;5;34m0\u001b[0m (0.00 B)\n"
            ]
          },
          "metadata": {},
          "output_type": "display_data"
        }
      ],
      "source": [
        "model.summary()"
      ]
    },
    {
      "cell_type": "code",
      "execution_count": 15,
      "metadata": {
        "colab": {
          "base_uri": "https://localhost:8080/"
        },
        "id": "pcX2ctjQx03P",
        "outputId": "74157003-80da-46b9-c603-15aca474342d"
      },
      "outputs": [
        {
          "name": "stdout",
          "output_type": "stream",
          "text": [
            "Epoch 1/40\n",
            "\u001b[1m1875/1875\u001b[0m \u001b[32m━━━━━━━━━━━━━━━━━━━━\u001b[0m\u001b[37m\u001b[0m \u001b[1m4s\u001b[0m 1ms/step - loss: 0.8120 - sparse_categorical_accuracy: 0.7399 - val_loss: 0.2260 - val_sparse_categorical_accuracy: 0.9300\n",
            "Epoch 2/40\n",
            "\u001b[1m1875/1875\u001b[0m \u001b[32m━━━━━━━━━━━━━━━━━━━━\u001b[0m\u001b[37m\u001b[0m \u001b[1m3s\u001b[0m 1ms/step - loss: 0.2606 - sparse_categorical_accuracy: 0.9213 - val_loss: 0.1494 - val_sparse_categorical_accuracy: 0.9533\n",
            "Epoch 3/40\n",
            "\u001b[1m1875/1875\u001b[0m \u001b[32m━━━━━━━━━━━━━━━━━━━━\u001b[0m\u001b[37m\u001b[0m \u001b[1m3s\u001b[0m 2ms/step - loss: 0.2043 - sparse_categorical_accuracy: 0.9387 - val_loss: 0.1364 - val_sparse_categorical_accuracy: 0.9585\n",
            "Epoch 4/40\n",
            "\u001b[1m1875/1875\u001b[0m \u001b[32m━━━━━━━━━━━━━━━━━━━━\u001b[0m\u001b[37m\u001b[0m \u001b[1m3s\u001b[0m 2ms/step - loss: 0.1777 - sparse_categorical_accuracy: 0.9447 - val_loss: 0.1255 - val_sparse_categorical_accuracy: 0.9604\n",
            "Epoch 5/40\n",
            "\u001b[1m1875/1875\u001b[0m \u001b[32m━━━━━━━━━━━━━━━━━━━━\u001b[0m\u001b[37m\u001b[0m \u001b[1m3s\u001b[0m 2ms/step - loss: 0.1619 - sparse_categorical_accuracy: 0.9517 - val_loss: 0.1197 - val_sparse_categorical_accuracy: 0.9636\n",
            "Epoch 6/40\n",
            "\u001b[1m1875/1875\u001b[0m \u001b[32m━━━━━━━━━━━━━━━━━━━━\u001b[0m\u001b[37m\u001b[0m \u001b[1m3s\u001b[0m 2ms/step - loss: 0.1444 - sparse_categorical_accuracy: 0.9565 - val_loss: 0.1145 - val_sparse_categorical_accuracy: 0.9642\n",
            "Epoch 7/40\n",
            "\u001b[1m1875/1875\u001b[0m \u001b[32m━━━━━━━━━━━━━━━━━━━━\u001b[0m\u001b[37m\u001b[0m \u001b[1m4s\u001b[0m 2ms/step - loss: 0.1345 - sparse_categorical_accuracy: 0.9595 - val_loss: 0.1141 - val_sparse_categorical_accuracy: 0.9661\n",
            "Epoch 8/40\n",
            "\u001b[1m1875/1875\u001b[0m \u001b[32m━━━━━━━━━━━━━━━━━━━━\u001b[0m\u001b[37m\u001b[0m \u001b[1m3s\u001b[0m 2ms/step - loss: 0.1305 - sparse_categorical_accuracy: 0.9613 - val_loss: 0.1180 - val_sparse_categorical_accuracy: 0.9650\n",
            "Epoch 9/40\n",
            "\u001b[1m1875/1875\u001b[0m \u001b[32m━━━━━━━━━━━━━━━━━━━━\u001b[0m\u001b[37m\u001b[0m \u001b[1m3s\u001b[0m 2ms/step - loss: 0.1257 - sparse_categorical_accuracy: 0.9616 - val_loss: 0.1087 - val_sparse_categorical_accuracy: 0.9660\n",
            "Epoch 10/40\n",
            "\u001b[1m1875/1875\u001b[0m \u001b[32m━━━━━━━━━━━━━━━━━━━━\u001b[0m\u001b[37m\u001b[0m \u001b[1m3s\u001b[0m 2ms/step - loss: 0.1182 - sparse_categorical_accuracy: 0.9642 - val_loss: 0.1124 - val_sparse_categorical_accuracy: 0.9675\n",
            "Epoch 11/40\n",
            "\u001b[1m1875/1875\u001b[0m \u001b[32m━━━━━━━━━━━━━━━━━━━━\u001b[0m\u001b[37m\u001b[0m \u001b[1m3s\u001b[0m 2ms/step - loss: 0.1117 - sparse_categorical_accuracy: 0.9657 - val_loss: 0.1051 - val_sparse_categorical_accuracy: 0.9689\n",
            "Epoch 12/40\n",
            "\u001b[1m1875/1875\u001b[0m \u001b[32m━━━━━━━━━━━━━━━━━━━━\u001b[0m\u001b[37m\u001b[0m \u001b[1m3s\u001b[0m 2ms/step - loss: 0.1130 - sparse_categorical_accuracy: 0.9656 - val_loss: 0.1094 - val_sparse_categorical_accuracy: 0.9682\n",
            "Epoch 13/40\n",
            "\u001b[1m1875/1875\u001b[0m \u001b[32m━━━━━━━━━━━━━━━━━━━━\u001b[0m\u001b[37m\u001b[0m \u001b[1m3s\u001b[0m 2ms/step - loss: 0.1063 - sparse_categorical_accuracy: 0.9679 - val_loss: 0.1069 - val_sparse_categorical_accuracy: 0.9676\n",
            "Epoch 14/40\n",
            "\u001b[1m1875/1875\u001b[0m \u001b[32m━━━━━━━━━━━━━━━━━━━━\u001b[0m\u001b[37m\u001b[0m \u001b[1m3s\u001b[0m 2ms/step - loss: 0.1052 - sparse_categorical_accuracy: 0.9677 - val_loss: 0.1077 - val_sparse_categorical_accuracy: 0.9696\n",
            "Epoch 15/40\n",
            "\u001b[1m1875/1875\u001b[0m \u001b[32m━━━━━━━━━━━━━━━━━━━━\u001b[0m\u001b[37m\u001b[0m \u001b[1m3s\u001b[0m 1ms/step - loss: 0.0990 - sparse_categorical_accuracy: 0.9687 - val_loss: 0.1004 - val_sparse_categorical_accuracy: 0.9705\n",
            "Epoch 16/40\n",
            "\u001b[1m1875/1875\u001b[0m \u001b[32m━━━━━━━━━━━━━━━━━━━━\u001b[0m\u001b[37m\u001b[0m \u001b[1m3s\u001b[0m 2ms/step - loss: 0.0968 - sparse_categorical_accuracy: 0.9692 - val_loss: 0.1002 - val_sparse_categorical_accuracy: 0.9715\n",
            "Epoch 17/40\n",
            "\u001b[1m1875/1875\u001b[0m \u001b[32m━━━━━━━━━━━━━━━━━━━━\u001b[0m\u001b[37m\u001b[0m \u001b[1m3s\u001b[0m 2ms/step - loss: 0.0980 - sparse_categorical_accuracy: 0.9701 - val_loss: 0.1036 - val_sparse_categorical_accuracy: 0.9700\n",
            "Epoch 18/40\n",
            "\u001b[1m1875/1875\u001b[0m \u001b[32m━━━━━━━━━━━━━━━━━━━━\u001b[0m\u001b[37m\u001b[0m \u001b[1m3s\u001b[0m 2ms/step - loss: 0.0925 - sparse_categorical_accuracy: 0.9707 - val_loss: 0.1018 - val_sparse_categorical_accuracy: 0.9707\n",
            "Epoch 19/40\n",
            "\u001b[1m1875/1875\u001b[0m \u001b[32m━━━━━━━━━━━━━━━━━━━━\u001b[0m\u001b[37m\u001b[0m \u001b[1m3s\u001b[0m 2ms/step - loss: 0.0894 - sparse_categorical_accuracy: 0.9716 - val_loss: 0.1016 - val_sparse_categorical_accuracy: 0.9701\n",
            "Epoch 20/40\n",
            "\u001b[1m1875/1875\u001b[0m \u001b[32m━━━━━━━━━━━━━━━━━━━━\u001b[0m\u001b[37m\u001b[0m \u001b[1m3s\u001b[0m 2ms/step - loss: 0.0896 - sparse_categorical_accuracy: 0.9718 - val_loss: 0.0999 - val_sparse_categorical_accuracy: 0.9722\n",
            "Epoch 21/40\n",
            "\u001b[1m1875/1875\u001b[0m \u001b[32m━━━━━━━━━━━━━━━━━━━━\u001b[0m\u001b[37m\u001b[0m \u001b[1m3s\u001b[0m 2ms/step - loss: 0.0921 - sparse_categorical_accuracy: 0.9717 - val_loss: 0.1072 - val_sparse_categorical_accuracy: 0.9689\n",
            "Epoch 22/40\n",
            "\u001b[1m1875/1875\u001b[0m \u001b[32m━━━━━━━━━━━━━━━━━━━━\u001b[0m\u001b[37m\u001b[0m \u001b[1m3s\u001b[0m 2ms/step - loss: 0.0870 - sparse_categorical_accuracy: 0.9727 - val_loss: 0.1031 - val_sparse_categorical_accuracy: 0.9708\n",
            "Epoch 23/40\n",
            "\u001b[1m1875/1875\u001b[0m \u001b[32m━━━━━━━━━━━━━━━━━━━━\u001b[0m\u001b[37m\u001b[0m \u001b[1m3s\u001b[0m 2ms/step - loss: 0.0877 - sparse_categorical_accuracy: 0.9736 - val_loss: 0.0974 - val_sparse_categorical_accuracy: 0.9722\n",
            "Epoch 24/40\n",
            "\u001b[1m1875/1875\u001b[0m \u001b[32m━━━━━━━━━━━━━━━━━━━━\u001b[0m\u001b[37m\u001b[0m \u001b[1m3s\u001b[0m 2ms/step - loss: 0.0851 - sparse_categorical_accuracy: 0.9731 - val_loss: 0.0999 - val_sparse_categorical_accuracy: 0.9712\n",
            "Epoch 25/40\n",
            "\u001b[1m1875/1875\u001b[0m \u001b[32m━━━━━━━━━━━━━━━━━━━━\u001b[0m\u001b[37m\u001b[0m \u001b[1m3s\u001b[0m 2ms/step - loss: 0.0837 - sparse_categorical_accuracy: 0.9737 - val_loss: 0.0961 - val_sparse_categorical_accuracy: 0.9725\n",
            "Epoch 26/40\n",
            "\u001b[1m1875/1875\u001b[0m \u001b[32m━━━━━━━━━━━━━━━━━━━━\u001b[0m\u001b[37m\u001b[0m \u001b[1m3s\u001b[0m 2ms/step - loss: 0.0783 - sparse_categorical_accuracy: 0.9743 - val_loss: 0.1018 - val_sparse_categorical_accuracy: 0.9719\n",
            "Epoch 27/40\n",
            "\u001b[1m1875/1875\u001b[0m \u001b[32m━━━━━━━━━━━━━━━━━━━━\u001b[0m\u001b[37m\u001b[0m \u001b[1m3s\u001b[0m 2ms/step - loss: 0.0767 - sparse_categorical_accuracy: 0.9749 - val_loss: 0.1054 - val_sparse_categorical_accuracy: 0.9736\n",
            "Epoch 28/40\n",
            "\u001b[1m1875/1875\u001b[0m \u001b[32m━━━━━━━━━━━━━━━━━━━━\u001b[0m\u001b[37m\u001b[0m \u001b[1m3s\u001b[0m 2ms/step - loss: 0.0789 - sparse_categorical_accuracy: 0.9750 - val_loss: 0.1074 - val_sparse_categorical_accuracy: 0.9721\n",
            "Epoch 29/40\n",
            "\u001b[1m1875/1875\u001b[0m \u001b[32m━━━━━━━━━━━━━━━━━━━━\u001b[0m\u001b[37m\u001b[0m \u001b[1m3s\u001b[0m 2ms/step - loss: 0.0763 - sparse_categorical_accuracy: 0.9755 - val_loss: 0.1039 - val_sparse_categorical_accuracy: 0.9709\n",
            "Epoch 30/40\n",
            "\u001b[1m1875/1875\u001b[0m \u001b[32m━━━━━━━━━━━━━━━━━━━━\u001b[0m\u001b[37m\u001b[0m \u001b[1m3s\u001b[0m 2ms/step - loss: 0.0766 - sparse_categorical_accuracy: 0.9761 - val_loss: 0.1028 - val_sparse_categorical_accuracy: 0.9724\n",
            "Epoch 31/40\n",
            "\u001b[1m1875/1875\u001b[0m \u001b[32m━━━━━━━━━━━━━━━━━━━━\u001b[0m\u001b[37m\u001b[0m \u001b[1m3s\u001b[0m 2ms/step - loss: 0.0772 - sparse_categorical_accuracy: 0.9753 - val_loss: 0.1016 - val_sparse_categorical_accuracy: 0.9717\n",
            "Epoch 32/40\n",
            "\u001b[1m1875/1875\u001b[0m \u001b[32m━━━━━━━━━━━━━━━━━━━━\u001b[0m\u001b[37m\u001b[0m \u001b[1m3s\u001b[0m 2ms/step - loss: 0.0831 - sparse_categorical_accuracy: 0.9736 - val_loss: 0.1031 - val_sparse_categorical_accuracy: 0.9733\n",
            "Epoch 33/40\n",
            "\u001b[1m1875/1875\u001b[0m \u001b[32m━━━━━━━━━━━━━━━━━━━━\u001b[0m\u001b[37m\u001b[0m \u001b[1m3s\u001b[0m 2ms/step - loss: 0.0779 - sparse_categorical_accuracy: 0.9760 - val_loss: 0.0981 - val_sparse_categorical_accuracy: 0.9733\n",
            "Epoch 34/40\n",
            "\u001b[1m1875/1875\u001b[0m \u001b[32m━━━━━━━━━━━━━━━━━━━━\u001b[0m\u001b[37m\u001b[0m \u001b[1m3s\u001b[0m 2ms/step - loss: 0.0758 - sparse_categorical_accuracy: 0.9764 - val_loss: 0.1029 - val_sparse_categorical_accuracy: 0.9730\n",
            "Epoch 35/40\n",
            "\u001b[1m1875/1875\u001b[0m \u001b[32m━━━━━━━━━━━━━━━━━━━━\u001b[0m\u001b[37m\u001b[0m \u001b[1m3s\u001b[0m 2ms/step - loss: 0.0752 - sparse_categorical_accuracy: 0.9758 - val_loss: 0.0955 - val_sparse_categorical_accuracy: 0.9747\n",
            "Epoch 36/40\n",
            "\u001b[1m1875/1875\u001b[0m \u001b[32m━━━━━━━━━━━━━━━━━━━━\u001b[0m\u001b[37m\u001b[0m \u001b[1m3s\u001b[0m 2ms/step - loss: 0.0710 - sparse_categorical_accuracy: 0.9774 - val_loss: 0.1006 - val_sparse_categorical_accuracy: 0.9725\n",
            "Epoch 37/40\n",
            "\u001b[1m1875/1875\u001b[0m \u001b[32m━━━━━━━━━━━━━━━━━━━━\u001b[0m\u001b[37m\u001b[0m \u001b[1m3s\u001b[0m 2ms/step - loss: 0.0715 - sparse_categorical_accuracy: 0.9781 - val_loss: 0.0988 - val_sparse_categorical_accuracy: 0.9730\n",
            "Epoch 38/40\n",
            "\u001b[1m1875/1875\u001b[0m \u001b[32m━━━━━━━━━━━━━━━━━━━━\u001b[0m\u001b[37m\u001b[0m \u001b[1m3s\u001b[0m 1ms/step - loss: 0.0684 - sparse_categorical_accuracy: 0.9781 - val_loss: 0.0976 - val_sparse_categorical_accuracy: 0.9739\n",
            "Epoch 39/40\n",
            "\u001b[1m1875/1875\u001b[0m \u001b[32m━━━━━━━━━━━━━━━━━━━━\u001b[0m\u001b[37m\u001b[0m \u001b[1m3s\u001b[0m 2ms/step - loss: 0.0701 - sparse_categorical_accuracy: 0.9771 - val_loss: 0.1025 - val_sparse_categorical_accuracy: 0.9722\n",
            "Epoch 40/40\n",
            "\u001b[1m1875/1875\u001b[0m \u001b[32m━━━━━━━━━━━━━━━━━━━━\u001b[0m\u001b[37m\u001b[0m \u001b[1m3s\u001b[0m 2ms/step - loss: 0.0682 - sparse_categorical_accuracy: 0.9774 - val_loss: 0.1023 - val_sparse_categorical_accuracy: 0.9725\n"
          ]
        }
      ],
      "source": [
        "# Treinando e validando o modelo Neural com 40 épocas de treinamento\n",
        "history = model.fit(mod_X_train, y_train, validation_data=(mod_X_test, y_test), epochs=40, callbacks=[cp1])"
      ]
    },
    {
      "cell_type": "code",
      "execution_count": 16,
      "metadata": {
        "colab": {
          "base_uri": "https://localhost:8080/",
          "height": 472
        },
        "id": "oGfH9c9W2JmV",
        "outputId": "ce5eafcd-ee30-4437-d0fc-dc4e22d37213"
      },
      "outputs": [
        {
          "data": {
            "image/png": "[encoded data removed]",
            "text/plain": [
              "<Figure size 640x480 with 1 Axes>"
            ]
          },
          "metadata": {},
          "output_type": "display_data"
        }
      ],
      "source": [
        "# Obtendo a acurácia do histórico\n",
        "accuracy = history.history['sparse_categorical_accuracy']\n",
        "val_accuracy = history.history['val_sparse_categorical_accuracy']\n",
        "\n",
        "# Obtendo as épocas\n",
        "epochs = range(1, len(accuracy) + 1)\n",
        "\n",
        "# Plotando a acurácia\n",
        "plt.plot(epochs, accuracy, '-', label='Accuracy de treino')\n",
        "plt.plot(epochs, val_accuracy, '--', label='Accuracy de validação')\n",
        "#plt.title('')\n",
        "plt.xlabel('Épocas de treinamento')\n",
        "plt.ylabel('Accuracy')\n",
        "plt.legend()\n",
        "plt.grid()\n",
        "plt.show()"
      ]
    },
    {
      "cell_type": "code",
      "execution_count": 17,
      "metadata": {},
      "outputs": [
        {
          "data": {
            "image/png": "[encoded data removed]",
            "text/plain": [
              "<Figure size 640x480 with 1 Axes>"
            ]
          },
          "metadata": {},
          "output_type": "display_data"
        }
      ],
      "source": [
        "# Obtendo a loss do histórico\n",
        "loss = history.history['loss']\n",
        "val_loss = history.history['val_loss']\n",
        "\n",
        "# Obtendo as épocas\n",
        "epochs = range(1, len(accuracy) + 1)\n",
        "\n",
        "# Plotando a acurácia\n",
        "plt.plot(epochs, loss, '-', label='Loss de treino')\n",
        "plt.plot(epochs, val_loss, '--', label='Loss de validação')\n",
        "#plt.title('')\n",
        "plt.xlabel('Épocas de treinamento')\n",
        "plt.ylabel('Loss')\n",
        "plt.legend()\n",
        "plt.grid()\n",
        "plt.show()"
      ]
    },
    {
      "cell_type": "code",
      "execution_count": 19,
      "metadata": {
        "colab": {
          "base_uri": "https://localhost:8080/"
        },
        "id": "6HoI8LoF2Qcc",
        "outputId": "e7f662c5-5600-4f02-d79c-67122c1f3eb3"
      },
      "outputs": [
        {
          "name": "stdout",
          "output_type": "stream",
          "text": [
            "\u001b[1m313/313\u001b[0m \u001b[32m━━━━━━━━━━━━━━━━━━━━\u001b[0m\u001b[37m\u001b[0m \u001b[1m0s\u001b[0m 872us/step - loss: 0.1189 - sparse_categorical_accuracy: 0.9678\n"
          ]
        }
      ],
      "source": [
        "# Testando o modelo\n",
        "test_loss, test_accuracy = model.evaluate(mod_X_test, y_test)"
      ]
    },
    {
      "cell_type": "code",
      "execution_count": 21,
      "metadata": {
        "colab": {
          "base_uri": "https://localhost:8080/"
        },
        "id": "j48pUghK2WQU",
        "outputId": "9e125e80-fb73-46b9-ef05-a21003e5feb8"
      },
      "outputs": [
        {
          "name": "stdout",
          "output_type": "stream",
          "text": [
            "\u001b[1m313/313\u001b[0m \u001b[32m━━━━━━━━━━━━━━━━━━━━\u001b[0m\u001b[37m\u001b[0m \u001b[1m0s\u001b[0m 1ms/step\n",
            "Accuracy: 0.9725\n",
            "Weighted Precision: 0.9726\n",
            "Weighted F-score: 0.9725\n",
            "Weighted Recall: 0.9725\n"
          ]
        }
      ],
      "source": [
        "# Obtém as previsões do modelo para os dados de teste\n",
        "y_pred = model.predict(mod_X_test)\n",
        "\n",
        "# Converte as previsões para rótulos binários (0 ou 1) para cada classe individualmente\n",
        "y_pred_binary = np.argmax(y_pred, axis=1)\n",
        "\n",
        "# Calcula o recall para cada classe individualmente\n",
        "recall_per_class = recall_score(y_test, y_pred_binary, average=None)\n",
        "\n",
        "# Calcula a precisão para cada classe individualmente\n",
        "precision_per_class = precision_score(y_test, y_pred_binary, average=None)\n",
        "\n",
        "# Calcula o F-score para cada classe individualmente\n",
        "f_score_per_class = f1_score(y_test, y_pred_binary, average=None)\n",
        "\n",
        "# Calcula a média ponderada dos recalls\n",
        "weighted_recall = recall_score(y_test, y_pred_binary, average='weighted')\n",
        "\n",
        "# Calcula a média ponderada da precisão\n",
        "weighted_precision = precision_score(y_test, y_pred_binary, average='weighted')\n",
        "\n",
        "# Calcula a média ponderada do F-score\n",
        "weighted_f_score = f1_score(y_test, y_pred_binary, average='weighted')\n",
        "\n",
        "# Imprime a Accuracy\n",
        "print(\"Accuracy: {:.4f}\".format(test_accuracy))\n",
        "\n",
        "# Imprime a média ponderada da precisão\n",
        "print(\"Weighted Precision: {:.4f}\".format(weighted_precision))\n",
        "\n",
        "# Imprime a média ponderada do F-score\n",
        "print(\"Weighted F-score: {:.4f}\".format(weighted_f_score))\n",
        "\n",
        "# Imprime a média ponderada dos recalls\n",
        "print(\"Weighted Recall: {:.4f}\".format(weighted_recall))"
      ]
    }
  ],
  "metadata": {
    "colab": {
      "provenance": []
    },
    "kernelspec": {
      "display_name": "Python 3",
      "name": "python3"
    },
    "language_info": {
      "codemirror_mode": {
        "name": "ipython",
        "version": 3
      },
      "file_extension": ".py",
      "mimetype": "text/x-python",
      "name": "python",
      "nbconvert_exporter": "python",
      "pygments_lexer": "ipython3",
      "version": "3.12.6"
    }
  },
  "nbformat": 4,
  "nbformat_minor": 0
}
